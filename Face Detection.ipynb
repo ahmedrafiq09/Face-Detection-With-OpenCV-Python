{
 "cells": [
  {
   "cell_type": "code",
   "execution_count": 6,
   "id": "bd20acad",
   "metadata": {},
   "outputs": [],
   "source": [
    "#import libraries\n",
    "\n",
    "import cv2 as cv\n",
    "\n",
    "#\"haarcascade_frontalface_default.xml\" it is a pretrained classifier whihc detect the facecoordinates\n",
    "\n",
    "data = cv.CascadeClassifier('haarcascade_frontalface_default.xml')\n",
    "\n",
    "#CV operation whihc acapture the video\n",
    "cam = cv.VideoCapture('videoo01.mp4')\n",
    "\n",
    "while True:\n",
    "    ret,frame = cam.read()                                   # This line read the frame from the camera  \n",
    "    gray = cv.cvtColor(frame, cv.COLOR_BGR2GRAY)             # This line conver the color frame to gray scale\n",
    "    faceCoord = data.detectMultiScale(gray)\n",
    "    for x,y,w,h, in faceCoord:\n",
    "        cv.rectangle(frame,(x,y),(x+w,y+h),(0,255,0),2)      # These co-ordinates are the rectangle which  appears around face\n",
    "    cv.imshow('Detected Faces', frame)                       # This will show the rectangle around the face\n",
    "    \n",
    "    key = cv.waitKey(1)                                      # An input from the keyword to end the window\n",
    "    \n",
    "    if(key==81 or key==113):                                 #here press Q or q to exist window(81 and 113 is the ASCII Code FOr Q and q)\n",
    "        break\n",
    "\n",
    "cam.release()                                                # This will release the previous window used by opencv\n",
    "cv.destroyAllWindows()                                       # This will close or destroy all the open windows "
   ]
  },
  {
   "cell_type": "code",
   "execution_count": null,
   "id": "cbd8c0d5",
   "metadata": {},
   "outputs": [],
   "source": []
  }
 ],
 "metadata": {
  "kernelspec": {
   "display_name": "Python 3 (ipykernel)",
   "language": "python",
   "name": "python3"
  },
  "language_info": {
   "codemirror_mode": {
    "name": "ipython",
    "version": 3
   },
   "file_extension": ".py",
   "mimetype": "text/x-python",
   "name": "python",
   "nbconvert_exporter": "python",
   "pygments_lexer": "ipython3",
   "version": "3.11.4"
  }
 },
 "nbformat": 4,
 "nbformat_minor": 5
}
